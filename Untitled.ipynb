{
 "cells": [
  {
   "cell_type": "code",
   "execution_count": 1,
   "id": "48166c94",
   "metadata": {},
   "outputs": [],
   "source": [
    "import cv2\n",
    "import os\n",
    "import matplotlib.pyplot as plt\n",
    "%matplotlib inline"
   ]
  },
  {
   "cell_type": "code",
   "execution_count": 2,
   "id": "47dd9c1e",
   "metadata": {},
   "outputs": [],
   "source": [
    "video_capture = cv2.VideoCapture(0)"
   ]
  },
  {
   "cell_type": "code",
   "execution_count": 3,
   "id": "5189d758",
   "metadata": {},
   "outputs": [],
   "source": [
    "carplate = cv2.CascadeClassifier('haarcascade_russian_plate_number.xml')"
   ]
  },
  {
   "cell_type": "code",
   "execution_count": 4,
   "id": "2aac5098",
   "metadata": {},
   "outputs": [],
   "source": [
    "def detect(gray, frame):\n",
    "    carplate_rects = carplate.detectMultiScale(gray,scaleFactor=1.1, minNeighbors=3)\n",
    "    for x,y,w,h in carplate_rects: \n",
    "        cv2.rectangle(frame, (x,y), (x+w,y+h), (255,0,0), 5) \n",
    "        plate_gray = gray[y:y+h, x:x+w]\n",
    "        plate_color = frame[y:y+h, x:x+w]\n",
    "    return frame"
   ]
  },
  {
   "cell_type": "code",
   "execution_count": null,
   "id": "458bcef6",
   "metadata": {},
   "outputs": [],
   "source": [
    "while True :\n",
    "    _, frame = video_capture.read()\n",
    "    gray = cv2.cvtColor(frame, cv2.COLOR_BGR2GRAY)\n",
    "    canvas = detect(gray, frame)\n",
    "    cv2.imshow(\"canvas\", canvas)\n",
    "    if cv2.waitKey(30) == 27:\n",
    "        break\n",
    "video.capture.release()\n",
    "cv2.destroyAllWindows()"
   ]
  },
  {
   "cell_type": "code",
   "execution_count": 6,
   "id": "09a1dabb",
   "metadata": {},
   "outputs": [],
   "source": [
    "def carplate_extract(image):\n",
    "    carplate_rects = carplate_haar_cascade.detectMultiScale(image,scaleFactor=1.1, minNeighbors=5)\n",
    "    for x,y,w,h in carplate_rects: \n",
    "            carplate_img = image[y+15:y+h-10 ,x+15:x+w-20] \n",
    "    return carplate_img"
   ]
  },
  {
   "cell_type": "code",
   "execution_count": 7,
   "id": "5d25ac17",
   "metadata": {},
   "outputs": [],
   "source": [
    "def enlarge_img(image, scale_percent):\n",
    "    width = int(image.shape[1] * scale_percent / 100)\n",
    "    height = int(image.shape[0] * scale_percent / 100)\n",
    "    dim = (width, height)\n",
    "    resized_image = cv2.resize(image, dim, interpolation = cv2.INTER_AREA)\n",
    "    return resized_image"
   ]
  },
  {
   "cell_type": "code",
   "execution_count": 8,
   "id": "62b6e11e",
   "metadata": {},
   "outputs": [
    {
     "ename": "NameError",
     "evalue": "name 'carplate_img_rgb' is not defined",
     "output_type": "error",
     "traceback": [
      "\u001b[1;31m---------------------------------------------------------------------------\u001b[0m",
      "\u001b[1;31mNameError\u001b[0m                                 Traceback (most recent call last)",
      "Cell \u001b[1;32mIn [8], line 1\u001b[0m\n\u001b[1;32m----> 1\u001b[0m carplate_extract_img \u001b[38;5;241m=\u001b[39m carplate_extract(\u001b[43mcarplate_img_rgb\u001b[49m)\n\u001b[0;32m      2\u001b[0m carplate_extract_img \u001b[38;5;241m=\u001b[39m enlarge_img(carplate_extract_img, \u001b[38;5;241m150\u001b[39m)\n\u001b[0;32m      3\u001b[0m plt\u001b[38;5;241m.\u001b[39mimshow(carplate_extract_img);\n",
      "\u001b[1;31mNameError\u001b[0m: name 'carplate_img_rgb' is not defined"
     ]
    }
   ],
   "source": [
    "carplate_extract_img = carplate_extract(carplate_img_rgb)\n",
    "carplate_extract_img = enlarge_img(carplate_extract_img, 150)\n",
    "plt.imshow(carplate_extract_img);"
   ]
  },
  {
   "cell_type": "code",
   "execution_count": null,
   "id": "e03b2340",
   "metadata": {},
   "outputs": [],
   "source": [
    "carplate_extract_img_gray = cv2.cvtColor(carplate_extract_img, cv2.COLOR_RGB2GRAY)\n",
    "plt.axis('off') \n",
    "plt.imshow(carplate_extract_img_gray, cmap = 'gray')"
   ]
  },
  {
   "cell_type": "code",
   "execution_count": null,
   "id": "4d898798",
   "metadata": {},
   "outputs": [],
   "source": [
    "carplate_extract_img_gray_blur = cv2.medianBlur(carplate_extract_img_gray,3) # kernel size 3\n",
    "plt.axis('off') \n",
    "plt.imshow(carplate_extract_img_gray_blur, cmap = 'gray');"
   ]
  }
 ],
 "metadata": {
  "kernelspec": {
   "display_name": "Python 3 (ipykernel)",
   "language": "python",
   "name": "python3"
  },
  "language_info": {
   "codemirror_mode": {
    "name": "ipython",
    "version": 3
   },
   "file_extension": ".py",
   "mimetype": "text/x-python",
   "name": "python",
   "nbconvert_exporter": "python",
   "pygments_lexer": "ipython3",
   "version": "3.9.13"
  }
 },
 "nbformat": 4,
 "nbformat_minor": 5
}
